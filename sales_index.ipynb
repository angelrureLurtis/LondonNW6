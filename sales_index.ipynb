{
 "cells": [
  {
   "cell_type": "code",
   "execution_count": 23,
   "metadata": {},
   "outputs": [],
   "source": [
    "import pandas as pd\n",
    "import numpy as np\n",
    "import matplotlib.pyplot as plt\n",
    "import os\n",
    "from math import log, exp\n",
    "import seaborn as sns\n",
    "from tqdm import tqdm, tqdm_pandas"
   ]
  },
  {
   "cell_type": "code",
   "execution_count": 24,
   "metadata": {},
   "outputs": [],
   "source": [
    "def compute_repeat_sales_index():\n",
    "    \n",
    "    a=%system Rscript repeat_sales.R\n",
    "    \n",
    "    data = pd.read_csv('.rsi_index_per_bed.csv')\n",
    "\n",
    "    data = data.rename(columns={'Unnamed: 0':'Time'})\n",
    "\n",
    "    data = data.bfill()\n",
    "\n",
    "    data = data.replace('NONE', np.nan).dropna(axis=1)\n",
    "    \n",
    "    data.to_csv('rsi_index_per_bed.csv')\n",
    "    \n",
    "    data = data.iloc[1:]\n",
    "    \n",
    "    return data"
   ]
  },
  {
   "cell_type": "code",
   "execution_count": 25,
   "metadata": {},
   "outputs": [],
   "source": [
    "def compute_repeat_rents_index():\n",
    "    \n",
    "    a=%system Rscript repeat_rents.R\n",
    "    \n",
    "    data = pd.read_csv('.rri_index_per_bed_2011_to_2019.csv')\n",
    "\n",
    "    data = data.rename(columns={'Unnamed: 0':'Time'})\n",
    "\n",
    "    data = data.bfill()\n",
    "\n",
    "    data = data.replace('NONE', np.nan).dropna(axis=1)\n",
    "    \n",
    "    data.to_csv('rsi_index_per_bed.csv')\n",
    "    \n",
    "    data = data.iloc[1:]\n",
    "    \n",
    "    return data"
   ]
  },
  {
   "cell_type": "code",
   "execution_count": 26,
   "metadata": {},
   "outputs": [],
   "source": [
    "def infer_past_prices(serie):\n",
    "    y, b, p = serie[['year', 'beds', 'price']]\n",
    "    return (log(p) - rri[str(b)].loc[y:].cumsum()).apply(exp)"
   ]
  },
  {
   "cell_type": "code",
   "execution_count": 27,
   "metadata": {},
   "outputs": [],
   "source": [
    "def compute_agg_rental_prices():\n",
    "    rent_data_agg = pd.read_excel('voa-average-rent-borough.xls', sheet_name='Raw data', \\\n",
    "                              skiprows=2, \\\n",
    "                              usecols=['Year', 'Area', 'Category', 'Count of rents', 'Average'])\n",
    "\n",
    "    rent_data_agg.head()\n",
    "\n",
    "    # We filter the data by target region. As the data is not postcode-precise, \n",
    "    # the most accurate region would be NW (nortwest)\n",
    "    rent_data_agg = rent_data_agg[rent_data_agg['Area'] == 'NORTH WEST'].drop('Area', 1)\n",
    "\n",
    "    rent_data_agg['Category'].unique()\n",
    "\n",
    "    # We filter by properties having a specific number of rooms\n",
    "    rent_data_agg = rent_data_agg[~rent_data_agg['Category'].isin(['Room', 'All categories'])]\n",
    "\n",
    "\n",
    "    beds_dict = {\n",
    "        'Studio':0,\n",
    "        'One Bedroom':1,\n",
    "        'Two Bedroom':2,\n",
    "        'Three Bedroom':3,\n",
    "        'Four or more Bedrooms':4,\n",
    "    }\n",
    "\n",
    "    rent_data_agg['beds'] = rent_data_agg['Category'].apply(lambda x: beds_dict[x])\n",
    "\n",
    "    rent_data_agg[['Count of rents', 'Average']] = rent_data_agg[['Count of rents', 'Average']].astype(int)\n",
    "\n",
    "    rent_data_agg = rent_data_agg.groupby(['Year', 'beds'])['Count of rents', 'Average'].mean().reset_index()\n",
    "\n",
    "    rent_data_agg.to_csv('rent_data_agg.csv')\n",
    "    \n",
    "    return rent_data_agg"
   ]
  },
  {
   "cell_type": "code",
   "execution_count": 49,
   "metadata": {},
   "outputs": [],
   "source": [
    "# The repeat sales inde for the sales and the rents are calculated\n",
    "rsi = compute_repeat_sales_index()\n",
    "rri = compute_repeat_rents_index()\n",
    "rri.index = range(2012, 2020, 1)\n",
    "rsi.index = range(1997, 2021, 1)\n",
    "rri = rri.sort_index(ascending=False)"
   ]
  },
  {
   "cell_type": "code",
   "execution_count": 51,
   "metadata": {},
   "outputs": [],
   "source": [
    "# Sale and renting data is loaded (calculated in web_scraping.ipynb)\n",
    "data = pd.read_csv('nw6_data_rent.csv', index_col = 0)\n",
    "data_sales = pd.read_csv('nw6_data_sale.csv', index_col = 0)\n",
    "data_sales = data_sales[data_sales['beds']>0]\n",
    "data = data[data['beds']<5]\n",
    "data_sales = data_sales[data_sales['beds']<5]"
   ]
  },
  {
   "cell_type": "code",
   "execution_count": 52,
   "metadata": {},
   "outputs": [
    {
     "data": {
      "text/html": [
       "<div>\n",
       "<style scoped>\n",
       "    .dataframe tbody tr th:only-of-type {\n",
       "        vertical-align: middle;\n",
       "    }\n",
       "\n",
       "    .dataframe tbody tr th {\n",
       "        vertical-align: top;\n",
       "    }\n",
       "\n",
       "    .dataframe thead th {\n",
       "        text-align: right;\n",
       "    }\n",
       "</style>\n",
       "<table border=\"1\" class=\"dataframe\">\n",
       "  <thead>\n",
       "    <tr style=\"text-align: right;\">\n",
       "      <th></th>\n",
       "      <th>price</th>\n",
       "      <th>beds</th>\n",
       "      <th>baths</th>\n",
       "      <th>reception</th>\n",
       "      <th>href</th>\n",
       "      <th>type</th>\n",
       "      <th>date</th>\n",
       "      <th>direction</th>\n",
       "      <th>year</th>\n",
       "    </tr>\n",
       "  </thead>\n",
       "  <tbody>\n",
       "    <tr>\n",
       "      <th>0</th>\n",
       "      <td>1993</td>\n",
       "      <td>2</td>\n",
       "      <td>1.0</td>\n",
       "      <td>NaN</td>\n",
       "      <td>/to-rent/details/53728682</td>\n",
       "      <td>2 bed flat to rent</td>\n",
       "      <td>16th Dec 2019</td>\n",
       "      <td>Malvern Mews, London NW6</td>\n",
       "      <td>2019</td>\n",
       "    </tr>\n",
       "    <tr>\n",
       "      <th>1</th>\n",
       "      <td>2000</td>\n",
       "      <td>2</td>\n",
       "      <td>NaN</td>\n",
       "      <td>1.0</td>\n",
       "      <td>/to-rent/details/53727538</td>\n",
       "      <td>2 bed flat to rent</td>\n",
       "      <td>16th Dec 2019</td>\n",
       "      <td>Kings Gardens, London NW6</td>\n",
       "      <td>2019</td>\n",
       "    </tr>\n",
       "    <tr>\n",
       "      <th>2</th>\n",
       "      <td>1993</td>\n",
       "      <td>2</td>\n",
       "      <td>2.0</td>\n",
       "      <td>1.0</td>\n",
       "      <td>/to-rent/details/53722191</td>\n",
       "      <td>2 bed flat to rent</td>\n",
       "      <td>14th Dec 2019</td>\n",
       "      <td>Fairfax Place, Swiss Cottage NW6</td>\n",
       "      <td>2019</td>\n",
       "    </tr>\n",
       "    <tr>\n",
       "      <th>3</th>\n",
       "      <td>2100</td>\n",
       "      <td>2</td>\n",
       "      <td>1.0</td>\n",
       "      <td>1.0</td>\n",
       "      <td>/to-rent/details/53716641</td>\n",
       "      <td>2 bed flat to rent</td>\n",
       "      <td>13th Dec 2019</td>\n",
       "      <td>West End Lane, London NW6</td>\n",
       "      <td>2019</td>\n",
       "    </tr>\n",
       "    <tr>\n",
       "      <th>6</th>\n",
       "      <td>1993</td>\n",
       "      <td>2</td>\n",
       "      <td>2.0</td>\n",
       "      <td>1.0</td>\n",
       "      <td>/to-rent/details/53714561</td>\n",
       "      <td>2 bed flat to rent</td>\n",
       "      <td>13th Dec 2019</td>\n",
       "      <td>Fairfax Place, Swiss Cottage NW6</td>\n",
       "      <td>2019</td>\n",
       "    </tr>\n",
       "    <tr>\n",
       "      <th>...</th>\n",
       "      <td>...</td>\n",
       "      <td>...</td>\n",
       "      <td>...</td>\n",
       "      <td>...</td>\n",
       "      <td>...</td>\n",
       "      <td>...</td>\n",
       "      <td>...</td>\n",
       "      <td>...</td>\n",
       "      <td>...</td>\n",
       "    </tr>\n",
       "    <tr>\n",
       "      <th>524</th>\n",
       "      <td>4008</td>\n",
       "      <td>3</td>\n",
       "      <td>3.0</td>\n",
       "      <td>NaN</td>\n",
       "      <td>/to-rent/details/48394132</td>\n",
       "      <td>3 bed flat to rent</td>\n",
       "      <td>16th Jul 2018</td>\n",
       "      <td>Swiss Terrace, London NW6</td>\n",
       "      <td>2018</td>\n",
       "    </tr>\n",
       "    <tr>\n",
       "      <th>525</th>\n",
       "      <td>2578</td>\n",
       "      <td>2</td>\n",
       "      <td>1.0</td>\n",
       "      <td>1.0</td>\n",
       "      <td>/to-rent/details/52662329</td>\n",
       "      <td>2 bed flat to rent</td>\n",
       "      <td>9th Nov 2018</td>\n",
       "      <td>Weech Road, West Hampstead, London NW6</td>\n",
       "      <td>2018</td>\n",
       "    </tr>\n",
       "    <tr>\n",
       "      <th>526</th>\n",
       "      <td>1863</td>\n",
       "      <td>2</td>\n",
       "      <td>1.0</td>\n",
       "      <td>1.0</td>\n",
       "      <td>/to-rent/details/49288432</td>\n",
       "      <td>2 bed flat to rent</td>\n",
       "      <td>8th Oct 2018</td>\n",
       "      <td>Acol Road, West Hampstead, London NW6</td>\n",
       "      <td>2018</td>\n",
       "    </tr>\n",
       "    <tr>\n",
       "      <th>527</th>\n",
       "      <td>1980</td>\n",
       "      <td>2</td>\n",
       "      <td>1.0</td>\n",
       "      <td>1.0</td>\n",
       "      <td>/to-rent/details/49010097</td>\n",
       "      <td>2 bed flat to rent</td>\n",
       "      <td>12th Sep 2018</td>\n",
       "      <td>St. Hildas Close, Christchurch Avenue, London NW6</td>\n",
       "      <td>2018</td>\n",
       "    </tr>\n",
       "    <tr>\n",
       "      <th>529</th>\n",
       "      <td>1928</td>\n",
       "      <td>2</td>\n",
       "      <td>2.0</td>\n",
       "      <td>1.0</td>\n",
       "      <td>/to-rent/details/42278709</td>\n",
       "      <td>2 bed flat to rent</td>\n",
       "      <td>17th Aug 2018</td>\n",
       "      <td>Compayne Gardens, South Hampstead, London NW6</td>\n",
       "      <td>2018</td>\n",
       "    </tr>\n",
       "  </tbody>\n",
       "</table>\n",
       "<p>340 rows × 9 columns</p>\n",
       "</div>"
      ],
      "text/plain": [
       "     price  beds  baths  reception                       href  \\\n",
       "0     1993     2    1.0        NaN  /to-rent/details/53728682   \n",
       "1     2000     2    NaN        1.0  /to-rent/details/53727538   \n",
       "2     1993     2    2.0        1.0  /to-rent/details/53722191   \n",
       "3     2100     2    1.0        1.0  /to-rent/details/53716641   \n",
       "6     1993     2    2.0        1.0  /to-rent/details/53714561   \n",
       "..     ...   ...    ...        ...                        ...   \n",
       "524   4008     3    3.0        NaN  /to-rent/details/48394132   \n",
       "525   2578     2    1.0        1.0  /to-rent/details/52662329   \n",
       "526   1863     2    1.0        1.0  /to-rent/details/49288432   \n",
       "527   1980     2    1.0        1.0  /to-rent/details/49010097   \n",
       "529   1928     2    2.0        1.0  /to-rent/details/42278709   \n",
       "\n",
       "                   type           date  \\\n",
       "0    2 bed flat to rent  16th Dec 2019   \n",
       "1    2 bed flat to rent  16th Dec 2019   \n",
       "2    2 bed flat to rent  14th Dec 2019   \n",
       "3    2 bed flat to rent  13th Dec 2019   \n",
       "6    2 bed flat to rent  13th Dec 2019   \n",
       "..                  ...            ...   \n",
       "524  3 bed flat to rent  16th Jul 2018   \n",
       "525  2 bed flat to rent   9th Nov 2018   \n",
       "526  2 bed flat to rent   8th Oct 2018   \n",
       "527  2 bed flat to rent  12th Sep 2018   \n",
       "529  2 bed flat to rent  17th Aug 2018   \n",
       "\n",
       "                                             direction  year  \n",
       "0                             Malvern Mews, London NW6  2019  \n",
       "1                            Kings Gardens, London NW6  2019  \n",
       "2                     Fairfax Place, Swiss Cottage NW6  2019  \n",
       "3                            West End Lane, London NW6  2019  \n",
       "6                     Fairfax Place, Swiss Cottage NW6  2019  \n",
       "..                                                 ...   ...  \n",
       "524                          Swiss Terrace, London NW6  2018  \n",
       "525             Weech Road, West Hampstead, London NW6  2018  \n",
       "526              Acol Road, West Hampstead, London NW6  2018  \n",
       "527  St. Hildas Close, Christchurch Avenue, London NW6  2018  \n",
       "529      Compayne Gardens, South Hampstead, London NW6  2018  \n",
       "\n",
       "[340 rows x 9 columns]"
      ]
     },
     "execution_count": 52,
     "metadata": {},
     "output_type": "execute_result"
    }
   ],
   "source": [
    "data"
   ]
  },
  {
   "cell_type": "code",
   "execution_count": 53,
   "metadata": {},
   "outputs": [],
   "source": [
    "inf_prices = data.apply(infer_past_prices, axis=1)\n",
    "\n",
    "inf_prices = inf_prices.join(data)\n",
    "\n",
    "inf_prices = inf_prices.dropna()"
   ]
  },
  {
   "cell_type": "code",
   "execution_count": 54,
   "metadata": {},
   "outputs": [],
   "source": [
    "data = inf_prices.melt(id_vars=data.columns[0:8].tolist(),\\\n",
    "              value_vars=range(2012, 2020)).rename(columns=\\\n",
    "                                                   {'price':'real_price',\n",
    "                                                    'year':'real_year',\n",
    "                                                    'variable':'year',\n",
    "                                                    'value':'price'})"
   ]
  },
  {
   "cell_type": "code",
   "execution_count": 55,
   "metadata": {},
   "outputs": [],
   "source": [
    "data.to_csv('nw6_data_rent_prev_years_prediction.csv')"
   ]
  },
  {
   "cell_type": "code",
   "execution_count": 60,
   "metadata": {},
   "outputs": [],
   "source": [
    "def infer_future_prices(serie):\n",
    "    y, b, p = serie[['year', 'beds', 'price']]\n",
    "    b = str(b+1)\n",
    "    y = max(1997, y)\n",
    "    return (rsi.loc[y:2019,b] - rsi.loc[y,b] + log(p)).apply(exp)"
   ]
  },
  {
   "cell_type": "code",
   "execution_count": 61,
   "metadata": {},
   "outputs": [],
   "source": [
    "inf_prices_sales = data_sales.apply(infer_future_prices, axis=1)"
   ]
  },
  {
   "cell_type": "code",
   "execution_count": 62,
   "metadata": {},
   "outputs": [],
   "source": [
    "inf_prices_sales = data_sales.join(inf_prices_sales)"
   ]
  },
  {
   "cell_type": "code",
   "execution_count": 64,
   "metadata": {},
   "outputs": [],
   "source": [
    "inf_prices_sales= inf_prices_sales.melt(id_vars=data_sales.columns[0:7].tolist(), value_vars=range(2012, 2020)).rename(columns=\\\n",
    "                                                   {'price':'real_price',\n",
    "                                                    'year':'real_year',\n",
    "                                                    'variable':'year',\n",
    "                                                    'value':'price'})"
   ]
  },
  {
   "cell_type": "code",
   "execution_count": 65,
   "metadata": {},
   "outputs": [],
   "source": [
    "inf_prices_sales.to_csv('nw6_data_price_fut_years_prediction.csv')"
   ]
  },
  {
   "cell_type": "code",
   "execution_count": 66,
   "metadata": {
    "scrolled": false
   },
   "outputs": [
    {
     "data": {
      "text/html": [
       "<div>\n",
       "<style scoped>\n",
       "    .dataframe tbody tr th:only-of-type {\n",
       "        vertical-align: middle;\n",
       "    }\n",
       "\n",
       "    .dataframe tbody tr th {\n",
       "        vertical-align: top;\n",
       "    }\n",
       "\n",
       "    .dataframe thead th {\n",
       "        text-align: right;\n",
       "    }\n",
       "</style>\n",
       "<table border=\"1\" class=\"dataframe\">\n",
       "  <thead>\n",
       "    <tr style=\"text-align: right;\">\n",
       "      <th></th>\n",
       "      <th>address</th>\n",
       "      <th>attributes</th>\n",
       "      <th>postcode</th>\n",
       "      <th>beds</th>\n",
       "      <th>real_price</th>\n",
       "      <th>date</th>\n",
       "      <th>real_year</th>\n",
       "      <th>year</th>\n",
       "      <th>price</th>\n",
       "    </tr>\n",
       "  </thead>\n",
       "  <tbody>\n",
       "    <tr>\n",
       "      <th>0</th>\n",
       "      <td>Flat 4, Elstow Grange 40-42, Brondesbury Park</td>\n",
       "      <td>Flat, Freehold, 3 Beds, 1 Bath, 1 Recep</td>\n",
       "      <td>NW6-7DW</td>\n",
       "      <td>3</td>\n",
       "      <td>140000</td>\n",
       "      <td>1998-11-01</td>\n",
       "      <td>1998</td>\n",
       "      <td>2012</td>\n",
       "      <td>524440.601775</td>\n",
       "    </tr>\n",
       "    <tr>\n",
       "      <th>1</th>\n",
       "      <td>1, Broadhurst Mansions, 97 Broadhurst Gardens</td>\n",
       "      <td>Flat, Share of freehold, 3 Beds, 2 Baths, 1 Recep</td>\n",
       "      <td>NW6-3QP</td>\n",
       "      <td>3</td>\n",
       "      <td>197500</td>\n",
       "      <td>1998-06-01</td>\n",
       "      <td>1998</td>\n",
       "      <td>2012</td>\n",
       "      <td>739835.848933</td>\n",
       "    </tr>\n",
       "    <tr>\n",
       "      <th>2</th>\n",
       "      <td>Ground And First Floor Flat, 24 Greencroft Gar...</td>\n",
       "      <td>Maisonette, Share of freehold, 3 Beds, 2 Baths...</td>\n",
       "      <td>NW6-3LS</td>\n",
       "      <td>3</td>\n",
       "      <td>265000</td>\n",
       "      <td>1998-02-01</td>\n",
       "      <td>1998</td>\n",
       "      <td>2012</td>\n",
       "      <td>992691.139075</td>\n",
       "    </tr>\n",
       "    <tr>\n",
       "      <th>3</th>\n",
       "      <td>36 West End Lane</td>\n",
       "      <td>Flat, Leasehold, 3 Beds, 1 Bath, 1 Recep</td>\n",
       "      <td>NW6-4PA</td>\n",
       "      <td>3</td>\n",
       "      <td>139999</td>\n",
       "      <td>1998-08-01</td>\n",
       "      <td>1998</td>\n",
       "      <td>2012</td>\n",
       "      <td>524436.855771</td>\n",
       "    </tr>\n",
       "    <tr>\n",
       "      <th>4</th>\n",
       "      <td>44 Donaldson Road</td>\n",
       "      <td>Flat, Share of freehold, 3 Beds, 3 Baths, 2 Re...</td>\n",
       "      <td>NW6-6NG</td>\n",
       "      <td>3</td>\n",
       "      <td>110000</td>\n",
       "      <td>1998-04-01</td>\n",
       "      <td>1998</td>\n",
       "      <td>2012</td>\n",
       "      <td>412060.472823</td>\n",
       "    </tr>\n",
       "    <tr>\n",
       "      <th>...</th>\n",
       "      <td>...</td>\n",
       "      <td>...</td>\n",
       "      <td>...</td>\n",
       "      <td>...</td>\n",
       "      <td>...</td>\n",
       "      <td>...</td>\n",
       "      <td>...</td>\n",
       "      <td>...</td>\n",
       "      <td>...</td>\n",
       "    </tr>\n",
       "    <tr>\n",
       "      <th>106811</th>\n",
       "      <td>303 West End Lane</td>\n",
       "      <td>Flat, Leasehold, 3 Beds, 2 Baths, 1 Recep</td>\n",
       "      <td>NW6-1RD</td>\n",
       "      <td>3</td>\n",
       "      <td>580000</td>\n",
       "      <td>2019-03-01</td>\n",
       "      <td>2019</td>\n",
       "      <td>2019</td>\n",
       "      <td>580000.000000</td>\n",
       "    </tr>\n",
       "    <tr>\n",
       "      <th>106812</th>\n",
       "      <td>Flat 48, Lyncroft Mansions, Lyncroft Gardens</td>\n",
       "      <td>Flat, Share of freehold, 3 Beds, 1 Bath, 1 Recep</td>\n",
       "      <td>NW6-1JX</td>\n",
       "      <td>3</td>\n",
       "      <td>690000</td>\n",
       "      <td>2019-07-01</td>\n",
       "      <td>2019</td>\n",
       "      <td>2019</td>\n",
       "      <td>690000.000000</td>\n",
       "    </tr>\n",
       "    <tr>\n",
       "      <th>106813</th>\n",
       "      <td>42a Hemstal Road</td>\n",
       "      <td>Flat, Share of freehold, 3 Beds, 1 Bath, 1 Recep</td>\n",
       "      <td>NW6-2AJ</td>\n",
       "      <td>3</td>\n",
       "      <td>890501</td>\n",
       "      <td>2019-09-01</td>\n",
       "      <td>2019</td>\n",
       "      <td>2019</td>\n",
       "      <td>890501.000000</td>\n",
       "    </tr>\n",
       "    <tr>\n",
       "      <th>106814</th>\n",
       "      <td>Flat 6, Kilburn Gate, Kilburn Priory</td>\n",
       "      <td>Flat, Leasehold, 3 Beds, 1 Bath, 1 Recep</td>\n",
       "      <td>NW6-5ND</td>\n",
       "      <td>3</td>\n",
       "      <td>440000</td>\n",
       "      <td>2019-01-01</td>\n",
       "      <td>2019</td>\n",
       "      <td>2019</td>\n",
       "      <td>440000.000000</td>\n",
       "    </tr>\n",
       "    <tr>\n",
       "      <th>106815</th>\n",
       "      <td>28 Athelstan Gardens, Kimberley Road</td>\n",
       "      <td>Flat, Leasehold, 3 Beds, 1 Bath, 1 Recep</td>\n",
       "      <td>NW6-7SN</td>\n",
       "      <td>3</td>\n",
       "      <td>430000</td>\n",
       "      <td>2019-03-01</td>\n",
       "      <td>2019</td>\n",
       "      <td>2019</td>\n",
       "      <td>430000.000000</td>\n",
       "    </tr>\n",
       "  </tbody>\n",
       "</table>\n",
       "<p>106816 rows × 9 columns</p>\n",
       "</div>"
      ],
      "text/plain": [
       "                                                  address  \\\n",
       "0           Flat 4, Elstow Grange 40-42, Brondesbury Park   \n",
       "1           1, Broadhurst Mansions, 97 Broadhurst Gardens   \n",
       "2       Ground And First Floor Flat, 24 Greencroft Gar...   \n",
       "3                                        36 West End Lane   \n",
       "4                                       44 Donaldson Road   \n",
       "...                                                   ...   \n",
       "106811                                  303 West End Lane   \n",
       "106812       Flat 48, Lyncroft Mansions, Lyncroft Gardens   \n",
       "106813                                   42a Hemstal Road   \n",
       "106814               Flat 6, Kilburn Gate, Kilburn Priory   \n",
       "106815               28 Athelstan Gardens, Kimberley Road   \n",
       "\n",
       "                                               attributes postcode  beds  \\\n",
       "0                 Flat, Freehold, 3 Beds, 1 Bath, 1 Recep  NW6-7DW     3   \n",
       "1       Flat, Share of freehold, 3 Beds, 2 Baths, 1 Recep  NW6-3QP     3   \n",
       "2       Maisonette, Share of freehold, 3 Beds, 2 Baths...  NW6-3LS     3   \n",
       "3                Flat, Leasehold, 3 Beds, 1 Bath, 1 Recep  NW6-4PA     3   \n",
       "4       Flat, Share of freehold, 3 Beds, 3 Baths, 2 Re...  NW6-6NG     3   \n",
       "...                                                   ...      ...   ...   \n",
       "106811          Flat, Leasehold, 3 Beds, 2 Baths, 1 Recep  NW6-1RD     3   \n",
       "106812   Flat, Share of freehold, 3 Beds, 1 Bath, 1 Recep  NW6-1JX     3   \n",
       "106813   Flat, Share of freehold, 3 Beds, 1 Bath, 1 Recep  NW6-2AJ     3   \n",
       "106814           Flat, Leasehold, 3 Beds, 1 Bath, 1 Recep  NW6-5ND     3   \n",
       "106815           Flat, Leasehold, 3 Beds, 1 Bath, 1 Recep  NW6-7SN     3   \n",
       "\n",
       "        real_price        date  real_year  year          price  \n",
       "0           140000  1998-11-01       1998  2012  524440.601775  \n",
       "1           197500  1998-06-01       1998  2012  739835.848933  \n",
       "2           265000  1998-02-01       1998  2012  992691.139075  \n",
       "3           139999  1998-08-01       1998  2012  524436.855771  \n",
       "4           110000  1998-04-01       1998  2012  412060.472823  \n",
       "...            ...         ...        ...   ...            ...  \n",
       "106811      580000  2019-03-01       2019  2019  580000.000000  \n",
       "106812      690000  2019-07-01       2019  2019  690000.000000  \n",
       "106813      890501  2019-09-01       2019  2019  890501.000000  \n",
       "106814      440000  2019-01-01       2019  2019  440000.000000  \n",
       "106815      430000  2019-03-01       2019  2019  430000.000000  \n",
       "\n",
       "[106816 rows x 9 columns]"
      ]
     },
     "execution_count": 66,
     "metadata": {},
     "output_type": "execute_result"
    }
   ],
   "source": [
    "inf_prices_sales"
   ]
  },
  {
   "cell_type": "code",
   "execution_count": 67,
   "metadata": {},
   "outputs": [
    {
     "data": {
      "text/plain": [
       "<matplotlib.axes._subplots.AxesSubplot at 0x7f13cd737b90>"
      ]
     },
     "execution_count": 67,
     "metadata": {},
     "output_type": "execute_result"
    },
    {
     "data": {
      "image/png": "[encoded data removed]",
      "text/plain": [
       "<Figure size 432x288 with 1 Axes>"
      ]
     },
     "metadata": {
      "needs_background": "light"
     },
     "output_type": "display_data"
    }
   ],
   "source": [
    "sns.boxplot(data=data, x='year', y='price', hue='beds')"
   ]
  },
  {
   "cell_type": "code",
   "execution_count": 68,
   "metadata": {},
   "outputs": [
    {
     "data": {
      "text/plain": [
       "<matplotlib.axes._subplots.AxesSubplot at 0x7f13cc4583d0>"
      ]
     },
     "execution_count": 68,
     "metadata": {},
     "output_type": "execute_result"
    },
    {
     "data": {
      "image/png": "[encoded data removed]",
      "text/plain": [
       "<Figure size 432x288 with 1 Axes>"
      ]
     },
     "metadata": {
      "needs_background": "light"
     },
     "output_type": "display_data"
    }
   ],
   "source": [
    "sns.lineplot(data=data, x='year', y='price', hue='beds')"
   ]
  },
  {
   "cell_type": "code",
   "execution_count": 69,
   "metadata": {},
   "outputs": [
    {
     "data": {
      "image/png": "[encoded data removed]",
      "text/plain": [
       "<Figure size 432x288 with 1 Axes>"
      ]
     },
     "metadata": {
      "needs_background": "light"
     },
     "output_type": "display_data"
    }
   ],
   "source": [
    "plt.xlim(2012, 2019)\n",
    "plt.ylim(0, 1700000)\n",
    "sns.lineplot(data=data_sales, x='year', y='price', hue='beds')\n",
    "plt.title('Real sale prices over time')\n",
    "plt.show()"
   ]
  },
  {
   "cell_type": "code",
   "execution_count": 71,
   "metadata": {},
   "outputs": [
    {
     "data": {
      "image/png": "[encoded data removed]",
      "text/plain": [
       "<Figure size 432x288 with 1 Axes>"
      ]
     },
     "metadata": {
      "needs_background": "light"
     },
     "output_type": "display_data"
    }
   ],
   "source": [
    "plt.xlim(2012, 2019)\n",
    "plt.ylim(0, 1700000)\n",
    "sns.lineplot(data=inf_prices_sales, x='year', y='price', hue='beds')\n",
    "plt.title('Repeat sale index predicted prices over time')\n",
    "plt.show()"
   ]
  },
  {
   "cell_type": "code",
   "execution_count": 72,
   "metadata": {},
   "outputs": [],
   "source": [
    "rent_data_agg = compute_agg_rental_prices()\n",
    "rent_data_agg = rent_data_agg[rent_data_agg['beds']>0]"
   ]
  },
  {
   "cell_type": "code",
   "execution_count": 73,
   "metadata": {},
   "outputs": [
    {
     "data": {
      "text/plain": [
       "<matplotlib.axes._subplots.AxesSubplot at 0x7f13cedbb910>"
      ]
     },
     "execution_count": 73,
     "metadata": {},
     "output_type": "execute_result"
    },
    {
     "data": {
      "image/png": "[encoded data removed]",
      "text/plain": [
       "<Figure size 432x288 with 1 Axes>"
      ]
     },
     "metadata": {
      "needs_background": "light"
     },
     "output_type": "display_data"
    }
   ],
   "source": [
    "sns.lineplot(data=rent_data_agg, x='Year', y='Average', hue='beds')"
   ]
  },
  {
   "cell_type": "markdown",
   "metadata": {},
   "source": [
    "Althought the trends are quite similar the absolute values are not. See email about this. In any case, the trends seem to make sense so they can be used."
   ]
  },
  {
   "cell_type": "code",
   "execution_count": null,
   "metadata": {},
   "outputs": [],
   "source": []
  },
  {
   "cell_type": "code",
   "execution_count": null,
   "metadata": {},
   "outputs": [],
   "source": []
  }
 ],
 "metadata": {
  "kernelspec": {
   "display_name": "Python 3",
   "language": "python",
   "name": "python3"
  },
  "language_info": {
   "codemirror_mode": {
    "name": "ipython",
    "version": 3
   },
   "file_extension": ".py",
   "mimetype": "text/x-python",
   "name": "python",
   "nbconvert_exporter": "python",
   "pygments_lexer": "ipython3",
   "version": "3.7.4"
  }
 },
 "nbformat": 4,
 "nbformat_minor": 2
}
