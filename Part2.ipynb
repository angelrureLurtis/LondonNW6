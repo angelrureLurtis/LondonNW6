{
 "cells": [
  {
   "cell_type": "markdown",
   "metadata": {},
   "source": [
    "## Part 2"
   ]
  },
  {
   "cell_type": "markdown",
   "metadata": {},
   "source": [
    "### Work to do"
   ]
  },
  {
   "cell_type": "markdown",
   "metadata": {},
   "source": [
    "The purpose of this segment is to create underwriting model in a form familiar to a real estate analyst that helps them understand the expected\n",
    "returns for properties in this area.\n",
    "\n",
    "1. Collect a small number of causal datasets that we expect to explain property price and rental income growth. These should include:\n",
    "    \n",
    "    For prices & rents:\n",
    "    - UK National GDP\n",
    "    - UK National CPI\n",
    "    - UK Household income growth\n",
    "    - Local population growth for the postcode (or as close to local data as you can find)\n",
    "\n",
    "\n",
    "    Costs:\n",
    "\n",
    "    - UK CPI / London CPI\n",
    "\n",
    "Use the forecasting library developed by Vitalii (cc'd here) to construct a simple causal forecasting model of the prices, rents and costs. You can work with him\n",
    "to get access to the underlying model object that gets created so you can perform feature salience analysis etc.\n",
    "\n",
    "2. For each property size, create a projection of the rent growth and price increase over the next 10 years\n",
    "3. Create a simple financial model of the investment in the property over the coming 10 years. In Real Estate team, the analysts use excel. Therefore\n",
    "we will use excelwings or pyexcel to update this initial excel model with the input assumptions that you generate above. Stephen (cc'd) will be able to help\n",
    "prepare a very simple excel model and answer any modelling questions you have.\n",
    "4. Use charts to present the results of this analysis and the properties with the highest expected return"
   ]
  },
  {
   "cell_type": "markdown",
   "metadata": {},
   "source": [
    "1) Have all the data except for LONDON CPI, which I have the national.  For the population growth I have only until 2011. Use data for Brent, whhich contains Killburn (Nw6)"
   ]
  },
  {
   "cell_type": "code",
   "execution_count": null,
   "metadata": {},
   "outputs": [],
   "source": []
  }
 ],
 "metadata": {
  "kernelspec": {
   "display_name": "Python 3",
   "language": "python",
   "name": "python3"
  },
  "language_info": {
   "codemirror_mode": {
    "name": "ipython",
    "version": 3
   },
   "file_extension": ".py",
   "mimetype": "text/x-python",
   "name": "python",
   "nbconvert_exporter": "python",
   "pygments_lexer": "ipython3",
   "version": "3.7.4"
  }
 },
 "nbformat": 4,
 "nbformat_minor": 2
}
