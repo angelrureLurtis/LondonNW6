{
 "cells": [
  {
   "cell_type": "code",
   "execution_count": 29,
   "metadata": {},
   "outputs": [],
   "source": [
    "from bs4 import BeautifulSoup as bs\n",
    "import requests\n",
    "import re\n",
    "import math\n",
    "import pandas as pd\n",
    "import matplotlib.pyplot as plt\n",
    "import numpy as np\n",
    "import seaborn as sns\n",
    "import tqdm"
   ]
  },
  {
   "cell_type": "code",
   "execution_count": 2,
   "metadata": {},
   "outputs": [],
   "source": [
    "def get_soup(url, parameters=False):\n",
    "    r = requests.get(url)\n",
    "    url = r.url\n",
    "    if parameters:\n",
    "        main_html = requests.get(url, params=parameters)\n",
    "    else:\n",
    "        main_html = requests.get(url=url)\n",
    "    \n",
    "    soup = bs(main_html.content, 'html.parser')\n",
    "    \n",
    "    return soup"
   ]
  },
  {
   "cell_type": "code",
   "execution_count": 3,
   "metadata": {},
   "outputs": [],
   "source": [
    "def compute_pages(soup, results_per_page=40):\n",
    "    \n",
    "    try:\n",
    "        items = int(re.search('\\d+\\s+of\\s+(\\d+)',soup.find_all(class_='listing-results-utils-count')[0].text).groups()[0])\n",
    "\n",
    "        pages = math.ceil(items/results_per_page)\n",
    "    \n",
    "    except:\n",
    "        \n",
    "        return None\n",
    "    \n",
    "    return pages"
   ]
  },
  {
   "cell_type": "code",
   "execution_count": 4,
   "metadata": {},
   "outputs": [],
   "source": [
    "def get_page_postcodes(url, page):\n",
    "    \n",
    "    soup = get_soup(url, {'pn':page})\n",
    "    \n",
    "    postcodes = [postcodes.get_text().strip(' ,') for postcodes in soup.find_all(class_='sold-prices-street-postcode')]\n",
    "\n",
    "    return postcodes   "
   ]
  },
  {
   "cell_type": "code",
   "execution_count": 5,
   "metadata": {},
   "outputs": [],
   "source": [
    "def get_inner_postcodes(postcode):\n",
    "    \n",
    "    base_url = 'https://www.zoopla.co.uk/house-prices/browse/london/{pc}'\\\n",
    "               .format(pc=postcode)\n",
    "        \n",
    "    n_pages = compute_pages(get_soup(base_url))\n",
    "\n",
    "    postcodes = []\n",
    "    \n",
    "    for page in range(n_pages+1):\n",
    "        \n",
    "        postcodes += get_page_postcodes(url=base_url, page=page)\n",
    "\n",
    "    return set(postcodes)"
   ]
  },
  {
   "cell_type": "code",
   "execution_count": 6,
   "metadata": {},
   "outputs": [],
   "source": [
    "def extract_properties_from_postcode(postcode):\n",
    "    \n",
    "    postcode = postcode.replace(' ', '-')\n",
    "    \n",
    "    base_url = 'https://www.zoopla.co.uk/house-prices/london/'\n",
    "    url = 'https://www.zoopla.co.uk/house-prices/london/{pc}/?pn={page}'.format(pc=postcode, page=1)\n",
    "    soup = get_soup(url)\n",
    "    \n",
    "    n_pages = compute_pages(soup)\n",
    "    \n",
    "    if not n_pages:\n",
    "        return None\n",
    "    \n",
    "    results = []\n",
    "    \n",
    "    for page in range(1, n_pages+1):\n",
    "            \n",
    "        url = 'https://www.zoopla.co.uk/house-prices/london/{pc}/?pn={page}'.format(pc=postcode, page=page)\n",
    "        soup = get_soup(url)\n",
    "        propierties = soup.find_all('tr', class_=re.compile('row-(even|odd)'))\n",
    "            \n",
    "        for i, row in enumerate(propierties[1:]):\n",
    "\n",
    "            try:\n",
    "                \n",
    "                result = {x:y for x,y in zip(('address', 'date', 'price', 'attributes'), extract_sales_by_row(row))}\n",
    "                result['postcode'] = postcode    \n",
    "                \n",
    "                results.append(result)\n",
    "\n",
    "            except:\n",
    "                \n",
    "                return row\n",
    "        \n",
    "    \n",
    "    return results"
   ]
  },
  {
   "cell_type": "code",
   "execution_count": 7,
   "metadata": {},
   "outputs": [],
   "source": [
    "def extract_old_prices(panels):\n",
    "    \n",
    "    data = panels[0].text.split('\\n\\n\\n')\n",
    "    \n",
    "    prices = [data[date].strip() for date in range(0, len(data),2)]\n",
    "    dates = [data[price].strip() for price in range(1, len(data),2)]\n",
    "    \n",
    "    return prices, dates"
   ]
  },
  {
   "cell_type": "code",
   "execution_count": 8,
   "metadata": {},
   "outputs": [],
   "source": [
    "def extract_sales_by_row(row):\n",
    "\n",
    "    house = row.findChild(class_='browse-cell-address')\n",
    "    sales = row.findChild(class_='browse-cell-date')\n",
    "    attributes = row.findChild(class_='attributes').get_text().strip()\n",
    "\n",
    "    address = house.findChild(class_='sold-prices-results-address')\n",
    "    date = sales.findChild(class_='sold-prices-data')\n",
    "    price = sales.findChild(class_='sold-prices-data-price')\n",
    "    old_price = sales.findChildren(class_='previous-sales-panel')\n",
    "    \n",
    "    if address:\n",
    "        address = address.get_text().strip().split('\\n')[0]\n",
    "    else:\n",
    "        address = None\n",
    "        \n",
    "    if date:\n",
    "        date = [date.get_text().strip()]\n",
    "    else:\n",
    "        date = None\n",
    "        \n",
    "    if price:\n",
    "        price = [price.get_text().strip()]\n",
    "    else:\n",
    "        price = None\n",
    "    \n",
    "    if old_price:\n",
    "        dates, prices = extract_old_prices(old_price)\n",
    "        prices = price + prices\n",
    "        dates = date + dates\n",
    "    else:\n",
    "        prices = price\n",
    "        dates = date\n",
    "        \n",
    "        \n",
    "    return address, dates, prices, attributes"
   ]
  },
  {
   "cell_type": "code",
   "execution_count": 9,
   "metadata": {},
   "outputs": [],
   "source": [
    "def extract_beds(x):\n",
    "    txt = x['attributes']\n",
    "    match = re.search('(\\d+)\\s*Beds?', txt, re.IGNORECASE)\n",
    "    if match:\n",
    "        return match.groups()[0]\n",
    "    else:\n",
    "        return None"
   ]
  },
  {
   "cell_type": "code",
   "execution_count": 10,
   "metadata": {},
   "outputs": [],
   "source": [
    "def merge_price_date(x):\n",
    "    price_date = []\n",
    "    for price, date in zip(x['price'], x['date']):\n",
    "        price_date.append(price+'_'+date)\n",
    "    return price_date"
   ]
  },
  {
   "cell_type": "markdown",
   "metadata": {},
   "source": [
    "### Sales scraping"
   ]
  },
  {
   "cell_type": "code",
   "execution_count": 11,
   "metadata": {},
   "outputs": [],
   "source": [
    "def get_sales_historic(postcode):\n",
    "    \n",
    "    pc = get_inner_postcodes(postcode)\n",
    "\n",
    "    total = []\n",
    "\n",
    "    for postcode in tqdm.tqdm_notebook(pc):\n",
    "        total.append(extract_properties_from_postcode(postcode))\n",
    "\n",
    "    df = pd.concat([pd.DataFrame(x) for x in total])\n",
    "    df = df.dropna()\n",
    "\n",
    "    df['beds'] = df.apply(extract_beds, axis=1)\n",
    "    df = df.dropna()\n",
    "    df['price_date'] = df.apply(merge_price_date, axis = 1) # This is done so it is easier to \"melt\" the df with the columns at the same time\n",
    "    df = df.drop(['price', 'date'], axis = 1)\n",
    "    df = df.reset_index(drop=True)\n",
    "\n",
    "    df = df.explode('price_date')\n",
    "\n",
    "    df[['price','date']] = df['price_date'].str.split('_', expand=True) \n",
    "\n",
    "    df = df.drop('price_date', axis=1)\n",
    "\n",
    "    df['date'] = pd.to_datetime(df['date'])\n",
    "    df['year'] = df['date'].dt.year\n",
    "    df['price'] = df['price'].str.replace('[£,]', '',regex=True).astype(int)\n",
    "    sales_df['beds'] = sales_df['beds'].astype(int)\n",
    "\n",
    "    return df\n",
    "    "
   ]
  },
  {
   "cell_type": "code",
   "execution_count": 12,
   "metadata": {},
   "outputs": [
    {
     "data": {
      "application/vnd.jupyter.widget-view+json": {
       "model_id": "da1dca17f2444e07a0000a52ba5c4eb2",
       "version_major": 2,
       "version_minor": 0
      },
      "text/plain": [
       "HBox(children=(IntProgress(value=0, max=1190), HTML(value='')))"
      ]
     },
     "metadata": {},
     "output_type": "display_data"
    },
    {
     "name": "stdout",
     "output_type": "stream",
     "text": [
      "\n"
     ]
    }
   ],
   "source": [
    "sales_df = get_sales_historic('NW6')"
   ]
  },
  {
   "cell_type": "code",
   "execution_count": 44,
   "metadata": {},
   "outputs": [],
   "source": [
    "sales_df.to_csv('nw6_data_sale_raw.csv')"
   ]
  },
  {
   "cell_type": "code",
   "execution_count": 117,
   "metadata": {},
   "outputs": [],
   "source": [
    "outs_sales = sales_df.groupby([\"beds\",\"year\"])[\"price\"].quantile([0.25, 0.75]).unstack(level=2).reset_index()\n",
    "outs_sales['IQR'] = outs_sales[0.75] - outs_sales[0.25]\n",
    "\n",
    "\n",
    "\n",
    "tmp_data = sales_df.merge(on=['year', 'beds'], right=outs_sales)\n",
    "\n",
    "sales_df_no = tmp_data[~((tmp_data['price'] < tmp_data[0.25]*1.25 - tmp_data['IQR']) | (tmp_data['price'] > tmp_data[0.75]*1.25 + tmp_data['IQR']))].drop(['IQR', 0.25, 0.75], axis=1)"
   ]
  },
  {
   "cell_type": "code",
   "execution_count": 118,
   "metadata": {
    "scrolled": false
   },
   "outputs": [
    {
     "data": {
      "text/plain": [
       "<matplotlib.axes._subplots.AxesSubplot at 0x7f4c3f90fdd0>"
      ]
     },
     "execution_count": 118,
     "metadata": {},
     "output_type": "execute_result"
    },
    {
     "data": {
      "image/png": "[encoded data removed]",
      "text/plain": [
       "<Figure size 432x288 with 1 Axes>"
      ]
     },
     "metadata": {
      "needs_background": "light"
     },
     "output_type": "display_data"
    }
   ],
   "source": [
    "sns.boxplot(data=sales_df[(sales_df['beds']<5)&(sales_df['year']>2012)], y='price',x='year', hue='beds')"
   ]
  },
  {
   "cell_type": "code",
   "execution_count": 119,
   "metadata": {
    "scrolled": true
   },
   "outputs": [
    {
     "data": {
      "text/plain": [
       "<matplotlib.axes._subplots.AxesSubplot at 0x7f4c40028550>"
      ]
     },
     "execution_count": 119,
     "metadata": {},
     "output_type": "execute_result"
    },
    {
     "data": {
      "image/png": "[encoded data removed]",
      "text/plain": [
       "<Figure size 432x288 with 1 Axes>"
      ]
     },
     "metadata": {
      "needs_background": "light"
     },
     "output_type": "display_data"
    }
   ],
   "source": [
    "sns.boxplot(data=sales_df_no[(sales_df_no['beds']<5)&(sales_df_no['year']>2012)], y='price',x='year', hue='beds')"
   ]
  },
  {
   "cell_type": "code",
   "execution_count": 120,
   "metadata": {},
   "outputs": [],
   "source": [
    "sales_df.to_csv('nw6_data_sale.csv')"
   ]
  },
  {
   "cell_type": "markdown",
   "metadata": {},
   "source": [
    "### Rent scraping"
   ]
  },
  {
   "cell_type": "code",
   "execution_count": 16,
   "metadata": {},
   "outputs": [],
   "source": [
    "def extract_renting_data_from_panel(wrapper_soup):\n",
    "    \n",
    "    main_panel = wrapper_soup.findNext(class_='listing-results-right clearfix')\n",
    "    \n",
    "    price = main_panel.find(class_='listing-results-price text-price')\n",
    "    attrs = main_panel.find(class_='listing-results-attr')\n",
    "    beds = attrs.find(class_='num-beds')\n",
    "    baths = attrs.find(class_='num-baths')\n",
    "    reception = attrs.find(class_='num-reception')\n",
    "    \n",
    "    listed_panel = wrapper_soup.findNext(class_='listing-results-footer clearfix')\n",
    "    \n",
    "    if listed_panel:\n",
    "        listed = listed_panel.findChild('small').get_text(separator='').strip(' by\\n').split('\\n')[1]\n",
    "    else:\n",
    "        listed = None\n",
    "    \n",
    "    attrs2 = attrs.findNextSibling(class_='listing-results-attr')\n",
    "    \n",
    "    if attrs2:\n",
    "        attrs2 = attrs2.findChild('a')\n",
    "        if attrs2:\n",
    "            type_ = attrs2.text.strip()\n",
    "            href = attrs2.attrs['href']\n",
    "        else:\n",
    "            type_ = None\n",
    "            href = None\n",
    "    \n",
    "    if price:\n",
    "        price = price.text.split('pcm')[0].replace('£','').strip()\n",
    "    else:\n",
    "        price = None\n",
    "    \n",
    "    if beds:\n",
    "        beds = beds.text.strip()\n",
    "    else:\n",
    "        beds = None\n",
    "    \n",
    "    if baths: \n",
    "        baths = baths.text.strip()\n",
    "    else:\n",
    "        baths = None\n",
    "    \n",
    "    if reception:\n",
    "        reception = reception.text.strip()\n",
    "    else:\n",
    "        reception = None\n",
    "        \n",
    "    result = {\n",
    "        'price':price,\n",
    "        'beds' : beds,\n",
    "        'baths': baths,\n",
    "        'reception': reception,\n",
    "        'href': href,\n",
    "        'type' : type_,\n",
    "        'date':listed\n",
    "    }\n",
    "\n",
    "    return result"
   ]
  },
  {
   "cell_type": "code",
   "execution_count": 17,
   "metadata": {},
   "outputs": [],
   "source": [
    "def get_propierties_from_page(soup):\n",
    "    \n",
    "    results = []\n",
    "\n",
    "    table_rents = soup.findAll(id_='content')\n",
    "\n",
    "    content = soup.findAll(class_='listing-results')[0]\n",
    "\n",
    "    propierties = [x for x in content.findAll(class_='listing-results-wrapper')]\n",
    "\n",
    "    for prop in tqdm.tqdm_notebook(propierties, unit='property'):\n",
    "        results.append(extract_renting_data_from_panel(prop))\n",
    "    \n",
    "    return results"
   ]
  },
  {
   "cell_type": "code",
   "execution_count": 24,
   "metadata": {},
   "outputs": [],
   "source": [
    "def get_rent_historic(postcode):\n",
    "    \n",
    "    results = []\n",
    "    \n",
    "    base_url = 'https://www.zoopla.co.uk/to-rent/property/london/{pc}/'\\\n",
    "               .format(pc=postcode)\n",
    "    \n",
    "    base_soup = get_soup(base_url, \\\n",
    "                    parameters={'pn':0,'page_size':'100'})\n",
    "                         \n",
    "    n_pages = compute_pages(base_soup, 100)\n",
    "    \n",
    "    for page in tqdm.tqdm_notebook(range(1, n_pages+1), unit='page'):\n",
    "        result = get_propierties_from_page(get_soup(base_url, \\\n",
    "                    parameters={'pn':page,'page_size':'100'})) \n",
    "        results += result\n",
    "    \n",
    "    results = pd.DataFrame(results)\n",
    "    \n",
    "    results = results[~results[['price','date','beds']].isna().any(1)]\n",
    "    results['year'] = results['date'].str[-4:]\n",
    "    results['beds'] = results['beds'].astype(int)\n",
    "    results['price'] = results['price'].str.replace(',','').astype(int)\n",
    "    \n",
    "    return pd.DataFrame(results)\n",
    "    "
   ]
  },
  {
   "cell_type": "code",
   "execution_count": 25,
   "metadata": {},
   "outputs": [
    {
     "data": {
      "application/vnd.jupyter.widget-view+json": {
       "model_id": "af12066ed60f482883d4f93a2ad004ff",
       "version_major": 2,
       "version_minor": 0
      },
      "text/plain": [
       "HBox(children=(IntProgress(value=0, max=7), HTML(value='')))"
      ]
     },
     "metadata": {},
     "output_type": "display_data"
    },
    {
     "data": {
      "application/vnd.jupyter.widget-view+json": {
       "model_id": "f1e852991d4c43519ccb33b489258104",
       "version_major": 2,
       "version_minor": 0
      },
      "text/plain": [
       "HBox(children=(IntProgress(value=0), HTML(value='')))"
      ]
     },
     "metadata": {},
     "output_type": "display_data"
    },
    {
     "name": "stdout",
     "output_type": "stream",
     "text": [
      "\n"
     ]
    },
    {
     "data": {
      "application/vnd.jupyter.widget-view+json": {
       "model_id": "378c61d7c2b44f69a3c042de72a9bd81",
       "version_major": 2,
       "version_minor": 0
      },
      "text/plain": [
       "HBox(children=(IntProgress(value=0), HTML(value='')))"
      ]
     },
     "metadata": {},
     "output_type": "display_data"
    },
    {
     "name": "stdout",
     "output_type": "stream",
     "text": [
      "\n"
     ]
    },
    {
     "data": {
      "application/vnd.jupyter.widget-view+json": {
       "model_id": "7ff32e192d9046b5ac26c3c5e3b1a638",
       "version_major": 2,
       "version_minor": 0
      },
      "text/plain": [
       "HBox(children=(IntProgress(value=0), HTML(value='')))"
      ]
     },
     "metadata": {},
     "output_type": "display_data"
    },
    {
     "name": "stdout",
     "output_type": "stream",
     "text": [
      "\n"
     ]
    },
    {
     "data": {
      "application/vnd.jupyter.widget-view+json": {
       "model_id": "f917abc3b202409ab91d99f703752a36",
       "version_major": 2,
       "version_minor": 0
      },
      "text/plain": [
       "HBox(children=(IntProgress(value=0), HTML(value='')))"
      ]
     },
     "metadata": {},
     "output_type": "display_data"
    },
    {
     "name": "stdout",
     "output_type": "stream",
     "text": [
      "\n"
     ]
    },
    {
     "data": {
      "application/vnd.jupyter.widget-view+json": {
       "model_id": "69827ac57a444d539bdda726886dd676",
       "version_major": 2,
       "version_minor": 0
      },
      "text/plain": [
       "HBox(children=(IntProgress(value=0), HTML(value='')))"
      ]
     },
     "metadata": {},
     "output_type": "display_data"
    },
    {
     "name": "stdout",
     "output_type": "stream",
     "text": [
      "\n"
     ]
    },
    {
     "data": {
      "application/vnd.jupyter.widget-view+json": {
       "model_id": "285ac100e1484608a1b014af56020114",
       "version_major": 2,
       "version_minor": 0
      },
      "text/plain": [
       "HBox(children=(IntProgress(value=0), HTML(value='')))"
      ]
     },
     "metadata": {},
     "output_type": "display_data"
    },
    {
     "name": "stdout",
     "output_type": "stream",
     "text": [
      "\n"
     ]
    },
    {
     "data": {
      "application/vnd.jupyter.widget-view+json": {
       "model_id": "4f486d6d37c345699f90493c29290869",
       "version_major": 2,
       "version_minor": 0
      },
      "text/plain": [
       "HBox(children=(IntProgress(value=0, max=90), HTML(value='')))"
      ]
     },
     "metadata": {},
     "output_type": "display_data"
    },
    {
     "name": "stdout",
     "output_type": "stream",
     "text": [
      "\n",
      "\n"
     ]
    }
   ],
   "source": [
    "rent_data = get_rent_historic('NW6')"
   ]
  },
  {
   "cell_type": "code",
   "execution_count": 78,
   "metadata": {},
   "outputs": [],
   "source": [
    "rent_data.to_csv('nw6_data_rent_raw.csv')"
   ]
  },
  {
   "cell_type": "code",
   "execution_count": 27,
   "metadata": {},
   "outputs": [
    {
     "data": {
      "text/html": [
       "<div>\n",
       "<style scoped>\n",
       "    .dataframe tbody tr th:only-of-type {\n",
       "        vertical-align: middle;\n",
       "    }\n",
       "\n",
       "    .dataframe tbody tr th {\n",
       "        vertical-align: top;\n",
       "    }\n",
       "\n",
       "    .dataframe thead th {\n",
       "        text-align: right;\n",
       "    }\n",
       "</style>\n",
       "<table border=\"1\" class=\"dataframe\">\n",
       "  <thead>\n",
       "    <tr style=\"text-align: right;\">\n",
       "      <th></th>\n",
       "      <th>price</th>\n",
       "      <th>beds</th>\n",
       "      <th>baths</th>\n",
       "      <th>reception</th>\n",
       "      <th>href</th>\n",
       "      <th>type</th>\n",
       "      <th>date</th>\n",
       "      <th>year</th>\n",
       "    </tr>\n",
       "  </thead>\n",
       "  <tbody>\n",
       "    <tr>\n",
       "      <th>0</th>\n",
       "      <td>1560</td>\n",
       "      <td>2</td>\n",
       "      <td>1</td>\n",
       "      <td>1</td>\n",
       "      <td>/to-rent/details/53714665</td>\n",
       "      <td>2 bed flat to rent</td>\n",
       "      <td>13th Dec 2019</td>\n",
       "      <td>2019</td>\n",
       "    </tr>\n",
       "    <tr>\n",
       "      <th>1</th>\n",
       "      <td>1993</td>\n",
       "      <td>2</td>\n",
       "      <td>2</td>\n",
       "      <td>1</td>\n",
       "      <td>/to-rent/details/53714561</td>\n",
       "      <td>2 bed flat to rent</td>\n",
       "      <td>13th Dec 2019</td>\n",
       "      <td>2019</td>\n",
       "    </tr>\n",
       "    <tr>\n",
       "      <th>2</th>\n",
       "      <td>4767</td>\n",
       "      <td>4</td>\n",
       "      <td>2</td>\n",
       "      <td>2</td>\n",
       "      <td>/to-rent/details/53714338</td>\n",
       "      <td>4 bed terraced house to rent</td>\n",
       "      <td>13th Dec 2019</td>\n",
       "      <td>2019</td>\n",
       "    </tr>\n",
       "    <tr>\n",
       "      <th>3</th>\n",
       "      <td>758</td>\n",
       "      <td>1</td>\n",
       "      <td>None</td>\n",
       "      <td>None</td>\n",
       "      <td>/to-rent/details/53713679</td>\n",
       "      <td>Room to rent</td>\n",
       "      <td>13th Dec 2019</td>\n",
       "      <td>2019</td>\n",
       "    </tr>\n",
       "    <tr>\n",
       "      <th>4</th>\n",
       "      <td>2990</td>\n",
       "      <td>3</td>\n",
       "      <td>None</td>\n",
       "      <td>1</td>\n",
       "      <td>/to-rent/details/53713660</td>\n",
       "      <td>3 bed flat to rent</td>\n",
       "      <td>13th Dec 2019</td>\n",
       "      <td>2019</td>\n",
       "    </tr>\n",
       "    <tr>\n",
       "      <th>...</th>\n",
       "      <td>...</td>\n",
       "      <td>...</td>\n",
       "      <td>...</td>\n",
       "      <td>...</td>\n",
       "      <td>...</td>\n",
       "      <td>...</td>\n",
       "      <td>...</td>\n",
       "      <td>...</td>\n",
       "    </tr>\n",
       "    <tr>\n",
       "      <th>684</th>\n",
       "      <td>1408</td>\n",
       "      <td>1</td>\n",
       "      <td>1</td>\n",
       "      <td>1</td>\n",
       "      <td>/to-rent/details/44128156</td>\n",
       "      <td>1 bed flat to rent</td>\n",
       "      <td>12th Jun 2017</td>\n",
       "      <td>2017</td>\n",
       "    </tr>\n",
       "    <tr>\n",
       "      <th>685</th>\n",
       "      <td>1517</td>\n",
       "      <td>1</td>\n",
       "      <td>1</td>\n",
       "      <td>1</td>\n",
       "      <td>/to-rent/details/43603833</td>\n",
       "      <td>1 bed flat to rent</td>\n",
       "      <td>21st Apr 2017</td>\n",
       "      <td>2017</td>\n",
       "    </tr>\n",
       "    <tr>\n",
       "      <th>686</th>\n",
       "      <td>3011</td>\n",
       "      <td>3</td>\n",
       "      <td>3</td>\n",
       "      <td>1</td>\n",
       "      <td>/to-rent/details/42592324</td>\n",
       "      <td>3 bed flat to rent</td>\n",
       "      <td>5th Jan 2017</td>\n",
       "      <td>2017</td>\n",
       "    </tr>\n",
       "    <tr>\n",
       "      <th>687</th>\n",
       "      <td>4312</td>\n",
       "      <td>4</td>\n",
       "      <td>2</td>\n",
       "      <td>1</td>\n",
       "      <td>/to-rent/details/52662299</td>\n",
       "      <td>4 bed detached house to rent</td>\n",
       "      <td>16th Dec 2016</td>\n",
       "      <td>2016</td>\n",
       "    </tr>\n",
       "    <tr>\n",
       "      <th>688</th>\n",
       "      <td>1950</td>\n",
       "      <td>2</td>\n",
       "      <td>1</td>\n",
       "      <td>None</td>\n",
       "      <td>/to-rent/details/42101355</td>\n",
       "      <td>2 bed flat to rent</td>\n",
       "      <td>29th Sep 2016</td>\n",
       "      <td>2016</td>\n",
       "    </tr>\n",
       "  </tbody>\n",
       "</table>\n",
       "<p>551 rows × 8 columns</p>\n",
       "</div>"
      ],
      "text/plain": [
       "     price  beds baths reception                       href  \\\n",
       "0     1560     2     1         1  /to-rent/details/53714665   \n",
       "1     1993     2     2         1  /to-rent/details/53714561   \n",
       "2     4767     4     2         2  /to-rent/details/53714338   \n",
       "3      758     1  None      None  /to-rent/details/53713679   \n",
       "4     2990     3  None         1  /to-rent/details/53713660   \n",
       "..     ...   ...   ...       ...                        ...   \n",
       "684   1408     1     1         1  /to-rent/details/44128156   \n",
       "685   1517     1     1         1  /to-rent/details/43603833   \n",
       "686   3011     3     3         1  /to-rent/details/42592324   \n",
       "687   4312     4     2         1  /to-rent/details/52662299   \n",
       "688   1950     2     1      None  /to-rent/details/42101355   \n",
       "\n",
       "                             type           date  year  \n",
       "0              2 bed flat to rent  13th Dec 2019  2019  \n",
       "1              2 bed flat to rent  13th Dec 2019  2019  \n",
       "2    4 bed terraced house to rent  13th Dec 2019  2019  \n",
       "3                    Room to rent  13th Dec 2019  2019  \n",
       "4              3 bed flat to rent  13th Dec 2019  2019  \n",
       "..                            ...            ...   ...  \n",
       "684            1 bed flat to rent  12th Jun 2017  2017  \n",
       "685            1 bed flat to rent  21st Apr 2017  2017  \n",
       "686            3 bed flat to rent   5th Jan 2017  2017  \n",
       "687  4 bed detached house to rent  16th Dec 2016  2016  \n",
       "688            2 bed flat to rent  29th Sep 2016  2016  \n",
       "\n",
       "[551 rows x 8 columns]"
      ]
     },
     "execution_count": 27,
     "metadata": {},
     "output_type": "execute_result"
    }
   ],
   "source": [
    "rent_data"
   ]
  },
  {
   "cell_type": "code",
   "execution_count": 122,
   "metadata": {},
   "outputs": [],
   "source": [
    "outs = rent_data.groupby([\"beds\",\"year\"])[\"price\"].quantile([0.25, 0.75]).unstack(level=2).reset_index()\n",
    "\n",
    "tmp_data = rent_data.merge(on=['year', 'beds'], right=outs)\n",
    "tmp_data['IQR'] = tmp_data[0.75] - tmp_data[0.25]\n",
    "\n",
    "rent_data_no = tmp_data[~((tmp_data['price'] < tmp_data[0.25]*1.25 - tmp_data['IQR']) | (tmp_data['price'] > tmp_data[0.75]*1.25 + tmp_data['IQR']))].drop(['IQR', 0.25, 0.75], axis=1)"
   ]
  },
  {
   "cell_type": "code",
   "execution_count": 125,
   "metadata": {
    "scrolled": false
   },
   "outputs": [
    {
     "data": {
      "text/plain": [
       "<matplotlib.axes._subplots.AxesSubplot at 0x7f4c2f3ca1d0>"
      ]
     },
     "execution_count": 125,
     "metadata": {},
     "output_type": "execute_result"
    },
    {
     "data": {
      "image/png": "[encoded data removed]",
      "text/plain": [
       "<Figure size 432x288 with 1 Axes>"
      ]
     },
     "metadata": {
      "needs_background": "light"
     },
     "output_type": "display_data"
    }
   ],
   "source": [
    "sns.boxplot(data=rent_data, y='price',x='year', hue='beds')"
   ]
  },
  {
   "cell_type": "code",
   "execution_count": 124,
   "metadata": {
    "scrolled": false
   },
   "outputs": [
    {
     "data": {
      "text/plain": [
       "<matplotlib.axes._subplots.AxesSubplot at 0x7f4c2f478b50>"
      ]
     },
     "execution_count": 124,
     "metadata": {},
     "output_type": "execute_result"
    },
    {
     "data": {
      "image/png": "[encoded data removed]",
      "text/plain": [
       "<Figure size 432x288 with 1 Axes>"
      ]
     },
     "metadata": {
      "needs_background": "light"
     },
     "output_type": "display_data"
    }
   ],
   "source": [
    "sns.boxplot(data=rent_data_no, y='price',x='year', hue='beds')"
   ]
  },
  {
   "cell_type": "code",
   "execution_count": 126,
   "metadata": {},
   "outputs": [],
   "source": [
    "rent_data_no.to_csv('nw6_data_rent.csv')"
   ]
  },
  {
   "cell_type": "markdown",
   "metadata": {},
   "source": [
    "----------"
   ]
  },
  {
   "cell_type": "markdown",
   "metadata": {},
   "source": [
    "### Aggregated rental prices"
   ]
  },
  {
   "cell_type": "code",
   "execution_count": 127,
   "metadata": {
    "scrolled": false
   },
   "outputs": [],
   "source": [
    "def compute_agg_rental_prices():\n",
    "    rent_data_agg = pd.read_excel('voa-average-rent-borough.xls', sheet_name='Raw data', \\\n",
    "                              skiprows=2, \\\n",
    "                              usecols=['Year', 'Area', 'Category', 'Count of rents', 'Average'])\n",
    "\n",
    "    rent_data_agg.head()\n",
    "\n",
    "    # We filter the data by target region. As the data is not postcode-precise, \n",
    "    # the most accurate region would be NW (nortwest)\n",
    "    rent_data_agg = rent_data_agg[rent_data_agg['Area'] == 'NORTH WEST'].drop('Area', 1)\n",
    "\n",
    "    rent_data_agg['Category'].unique()\n",
    "\n",
    "    # We filter by properties having a specific number of rooms\n",
    "    rent_data_agg = rent_data_agg[~rent_data_agg['Category'].isin(['Room', 'All categories'])]\n",
    "\n",
    "\n",
    "    beds_dict = {\n",
    "        'Studio':0,\n",
    "        'One Bedroom':1,\n",
    "        'Two Bedroom':2,\n",
    "        'Three Bedroom':3,\n",
    "        'Four or more Bedrooms':4,\n",
    "    }\n",
    "\n",
    "    rent_data_agg['beds'] = rent_data_agg['Category'].apply(lambda x: beds_dict[x])\n",
    "\n",
    "    rent_data_agg[['Count of rents', 'Average']] = rent_data_agg[['Count of rents', 'Average']].astype(int)\n",
    "\n",
    "    rent_data_agg = rent_data_agg.groupby(['Year', 'beds'])['Count of rents', 'Average'].mean().reset_index()\n",
    "\n",
    "    rent_data_agg.to_csv('rent_data_agg.csv')\n",
    "    \n",
    "    return rent_data_agg"
   ]
  },
  {
   "cell_type": "markdown",
   "metadata": {},
   "source": [
    "### Exploring the rent and sell data OLD"
   ]
  },
  {
   "cell_type": "code",
   "execution_count": null,
   "metadata": {
    "scrolled": true
   },
   "outputs": [],
   "source": [
    "sns.lineplot(y='yield', x='year', data=full_data)"
   ]
  },
  {
   "cell_type": "code",
   "execution_count": null,
   "metadata": {},
   "outputs": [],
   "source": [
    "sns.lineplot(y='yield', x='year', data=full_data, hue='beds')"
   ]
  },
  {
   "cell_type": "markdown",
   "metadata": {},
   "source": [
    "We can see something's wierd with the 0-bed segment. "
   ]
  },
  {
   "cell_type": "code",
   "execution_count": null,
   "metadata": {},
   "outputs": [],
   "source": [
    "full_data.groupby('beds')['price'].agg(['mean', 'std', 'size']).astype(int)"
   ]
  },
  {
   "cell_type": "markdown",
   "metadata": {},
   "source": [
    "It has a huge std compared to the mean. That's because we they have a very sparese price range and very few sample size. The most reasonable action is to discard them. "
   ]
  },
  {
   "cell_type": "code",
   "execution_count": null,
   "metadata": {},
   "outputs": [],
   "source": [
    "full_data_no_studio = full_data.loc[full_data['beds']!=0,:]"
   ]
  },
  {
   "cell_type": "code",
   "execution_count": null,
   "metadata": {},
   "outputs": [],
   "source": [
    "plt.figure(figsize=(10,10))\n",
    "sns.lineplot(y='yield', x='year', data=full_data_no_studio, hue='beds')\n",
    "plt.show()"
   ]
  },
  {
   "cell_type": "markdown",
   "metadata": {},
   "source": [
    "We can see some of the trends loom to sharp and unnatural. We will sarch for outliers."
   ]
  },
  {
   "cell_type": "code",
   "execution_count": null,
   "metadata": {},
   "outputs": [],
   "source": [
    "plt.figure(figsize=(10,10))\n",
    "sns.boxplot(data=full_data_no_studio, y = 'price', x='beds', hue='year')"
   ]
  },
  {
   "cell_type": "markdown",
   "metadata": {},
   "source": [
    "It can be seen that there are some heavy outliers."
   ]
  },
  {
   "cell_type": "code",
   "execution_count": null,
   "metadata": {},
   "outputs": [],
   "source": [
    "outs = full_data_no_studio.groupby([\"beds\",\"year\"])[\"price\"].quantile([0.25, 0.75]).unstack(level=2).reset_index()\n",
    "\n",
    "tmp_data = full_data_no_studio.merge(on=['year', 'beds'], right=outs)\n",
    "\n",
    "tmp_data['IQR'] = tmp_data[0.75] - tmp_data[0.25]\n",
    "\n",
    "full_data_no_studio_no = tmp_data[~(tmp_data['price'] < tmp_data[0.25] - tmp_data['IQR']*1.5) | (tmp_data['price'] > tmp_data[0.75] + tmp_data['IQR']*1.5)].drop(['IQR', 0.25, 0.75], axis=1)"
   ]
  },
  {
   "cell_type": "code",
   "execution_count": null,
   "metadata": {},
   "outputs": [],
   "source": [
    "plt.figure(figsize=(10,10))\n",
    "sns.boxplot(data=full_data_no_studio_no, y = 'price', x='year', hue='beds')"
   ]
  },
  {
   "cell_type": "code",
   "execution_count": null,
   "metadata": {},
   "outputs": [],
   "source": [
    "import seaborn as sns; sns.set()\n",
    "sns.palplot(sns.color_palette())"
   ]
  },
  {
   "cell_type": "code",
   "execution_count": null,
   "metadata": {},
   "outputs": [],
   "source": [
    "plt.figure(figsize=(10,10))\n",
    "sns.lineplot(y='yield', x='year', data=full_data_no_studio_no, hue='beds', style='beds', palette=sns.color_palette()[0:4])\n",
    "plt.show()"
   ]
  },
  {
   "cell_type": "markdown",
   "metadata": {},
   "source": [
    "The green spike (2013, 3 beds) it mainly due to some very unrealistic prices (see table below). They do not fall mathematically into an outlier but they are clearly wrong."
   ]
  },
  {
   "cell_type": "code",
   "execution_count": null,
   "metadata": {},
   "outputs": [],
   "source": [
    "full_data_no_studio_no[(full_data_no_studio_no['beds']==3)&(full_data_no_studio_no['year']==2014)].sort_values(by='price')"
   ]
  },
  {
   "cell_type": "code",
   "execution_count": null,
   "metadata": {},
   "outputs": [],
   "source": [
    "ax = sns.boxenplot(data=full_data_no_studio_no, x='beds', y='yield')\n",
    "ax.set_ylim([0, 0.06])"
   ]
  },
  {
   "cell_type": "code",
   "execution_count": null,
   "metadata": {},
   "outputs": [],
   "source": [
    "full_data_no_studio_no.groupby( 'beds')['yield']."
   ]
  },
  {
   "cell_type": "code",
   "execution_count": null,
   "metadata": {},
   "outputs": [],
   "source": [
    "anything above 7% of yield is error and below 1 also."
   ]
  },
  {
   "cell_type": "code",
   "execution_count": null,
   "metadata": {},
   "outputs": [],
   "source": [
    "full_data_no_studio_no.loc[2647]"
   ]
  },
  {
   "cell_type": "code",
   "execution_count": null,
   "metadata": {},
   "outputs": [],
   "source": [
    "use the robert's data to create and index and adjust to the past the current renting date."
   ]
  },
  {
   "cell_type": "code",
   "execution_count": null,
   "metadata": {},
   "outputs": [],
   "source": [
    "full_data_no_studio.shape"
   ]
  },
  {
   "cell_type": "code",
   "execution_count": null,
   "metadata": {},
   "outputs": [],
   "source": [
    "full_data_no_studio_no.shape"
   ]
  },
  {
   "cell_type": "code",
   "execution_count": null,
   "metadata": {},
   "outputs": [],
   "source": [
    "1% of cost ratio per calcular els costos pel net.\n",
    "talk with stpehen about costs"
   ]
  },
  {
   "cell_type": "code",
   "execution_count": null,
   "metadata": {},
   "outputs": [],
   "source": []
  },
  {
   "cell_type": "code",
   "execution_count": null,
   "metadata": {},
   "outputs": [],
   "source": []
  }
 ],
 "metadata": {
  "kernelspec": {
   "display_name": "Python 3",
   "language": "python",
   "name": "python3"
  },
  "language_info": {
   "codemirror_mode": {
    "name": "ipython",
    "version": 3
   },
   "file_extension": ".py",
   "mimetype": "text/x-python",
   "name": "python",
   "nbconvert_exporter": "python",
   "pygments_lexer": "ipython3",
   "version": "3.7.4"
  }
 },
 "nbformat": 4,
 "nbformat_minor": 2
}
